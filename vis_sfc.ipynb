{
 "cells": [
  {
   "cell_type": "code",
   "execution_count": 1,
   "metadata": {},
   "outputs": [
    {
     "name": "stderr",
     "output_type": "stream",
     "text": [
      "/home/wangh0j/miniconda3/envs/deepgcn2/lib/python3.7/site-packages/tensorboard/compat/tensorflow_stub/dtypes.py:541: FutureWarning: Passing (type, 1) or '1type' as a synonym of type is deprecated; in a future version of numpy, it will be understood as (type, (1,)) / '(1,)type'.\n",
      "  _np_qint8 = np.dtype([(\"qint8\", np.int8, 1)])\n",
      "/home/wangh0j/miniconda3/envs/deepgcn2/lib/python3.7/site-packages/tensorboard/compat/tensorflow_stub/dtypes.py:542: FutureWarning: Passing (type, 1) or '1type' as a synonym of type is deprecated; in a future version of numpy, it will be understood as (type, (1,)) / '(1,)type'.\n",
      "  _np_quint8 = np.dtype([(\"quint8\", np.uint8, 1)])\n",
      "/home/wangh0j/miniconda3/envs/deepgcn2/lib/python3.7/site-packages/tensorboard/compat/tensorflow_stub/dtypes.py:543: FutureWarning: Passing (type, 1) or '1type' as a synonym of type is deprecated; in a future version of numpy, it will be understood as (type, (1,)) / '(1,)type'.\n",
      "  _np_qint16 = np.dtype([(\"qint16\", np.int16, 1)])\n",
      "/home/wangh0j/miniconda3/envs/deepgcn2/lib/python3.7/site-packages/tensorboard/compat/tensorflow_stub/dtypes.py:544: FutureWarning: Passing (type, 1) or '1type' as a synonym of type is deprecated; in a future version of numpy, it will be understood as (type, (1,)) / '(1,)type'.\n",
      "  _np_quint16 = np.dtype([(\"quint16\", np.uint16, 1)])\n",
      "/home/wangh0j/miniconda3/envs/deepgcn2/lib/python3.7/site-packages/tensorboard/compat/tensorflow_stub/dtypes.py:545: FutureWarning: Passing (type, 1) or '1type' as a synonym of type is deprecated; in a future version of numpy, it will be understood as (type, (1,)) / '(1,)type'.\n",
      "  _np_qint32 = np.dtype([(\"qint32\", np.int32, 1)])\n",
      "/home/wangh0j/miniconda3/envs/deepgcn2/lib/python3.7/site-packages/tensorboard/compat/tensorflow_stub/dtypes.py:550: FutureWarning: Passing (type, 1) or '1type' as a synonym of type is deprecated; in a future version of numpy, it will be understood as (type, (1,)) / '(1,)type'.\n",
      "  np_resource = np.dtype([(\"resource\", np.ubyte, 1)])\n"
     ]
    }
   ],
   "source": [
    "import os\n",
    "import torch\n",
    "import torch.nn as nn\n",
    "from tqdm import tqdm\n",
    "import config as cfg\n",
    "import load_s3dis_preorder as ds\n",
    "import resnet_seg as res\n",
    "import utils as utl"
   ]
  },
  {
   "cell_type": "code",
   "execution_count": 2,
   "metadata": {},
   "outputs": [],
   "source": [
    "import pyvista as pv\n",
    "import numpy as np\n",
    "from hilbertcurve.hilbertcurve import HilbertCurve"
   ]
  },
  {
   "cell_type": "code",
   "execution_count": 3,
   "metadata": {},
   "outputs": [],
   "source": [
    "def batched_index_select(inputs, index):\n",
    "    \"\"\"\n",
    "\n",
    "    :param inputs: torch.Size([batch_size, num_dims, num_vertices, 1])\n",
    "    :param index: torch.Size([batch_size, num_vertices, k])\n",
    "    :return: torch.Size([batch_size, num_dims, num_vertices, k])\n",
    "    \"\"\"\n",
    "    batch_size, num_dims, num_vertices, _ = inputs.shape\n",
    "    k = index.shape[2]\n",
    "    idx = torch.arange(0, batch_size) * num_vertices\n",
    "    idx = idx.view(batch_size, -1)\n",
    "\n",
    "    inputs = inputs.transpose(2, 1).contiguous().view(-1, num_dims)\n",
    "    index = index.contiguous().view(batch_size, -1) + idx.type(index.dtype).to(inputs.device)\n",
    "    index = index.view(-1)\n",
    "\n",
    "    return torch.index_select(inputs, 0, index).contiguous().view(batch_size, -1, num_dims).transpose(2, 1).contiguous().view(batch_size, num_dims, -1, k)"
   ]
  },
  {
   "cell_type": "code",
   "execution_count": null,
   "metadata": {},
   "outputs": [],
   "source": []
  },
  {
   "cell_type": "code",
   "execution_count": 4,
   "metadata": {},
   "outputs": [
    {
     "ename": "NameError",
     "evalue": "name 'n_points' is not defined",
     "output_type": "error",
     "traceback": [
      "\u001b[0;31m---------------------------------------------------------------------------\u001b[0m",
      "\u001b[0;31mNameError\u001b[0m                                 Traceback (most recent call last)",
      "\u001b[0;32m<ipython-input-4-ddf9cccbd045>\u001b[0m in \u001b[0;36m<module>\u001b[0;34m\u001b[0m\n\u001b[0;32m----> 1\u001b[0;31m \u001b[0mpos\u001b[0m \u001b[0;34m=\u001b[0m \u001b[0mtorch\u001b[0m\u001b[0;34m.\u001b[0m\u001b[0mrandn\u001b[0m\u001b[0;34m(\u001b[0m\u001b[0;36m4\u001b[0m\u001b[0;34m,\u001b[0m \u001b[0;36m9\u001b[0m\u001b[0;34m,\u001b[0m \u001b[0mn_points\u001b[0m\u001b[0;34m)\u001b[0m\u001b[0;34m\u001b[0m\u001b[0;34m\u001b[0m\u001b[0m\n\u001b[0m\u001b[1;32m      2\u001b[0m \u001b[0mprint\u001b[0m\u001b[0;34m(\u001b[0m\u001b[0mpos\u001b[0m\u001b[0;34m)\u001b[0m\u001b[0;34m\u001b[0m\u001b[0;34m\u001b[0m\u001b[0m\n\u001b[1;32m      3\u001b[0m \u001b[0;34m\u001b[0m\u001b[0m\n\u001b[1;32m      4\u001b[0m \u001b[0mbatch\u001b[0m\u001b[0;34m,\u001b[0m \u001b[0mn_dim\u001b[0m\u001b[0;34m,\u001b[0m \u001b[0mn_points\u001b[0m \u001b[0;34m=\u001b[0m \u001b[0mpos\u001b[0m\u001b[0;34m.\u001b[0m\u001b[0mshape\u001b[0m\u001b[0;34m\u001b[0m\u001b[0;34m\u001b[0m\u001b[0m\n",
      "\u001b[0;31mNameError\u001b[0m: name 'n_points' is not defined"
     ]
    }
   ],
   "source": [
    "pos = torch.randn(4, 9, n_points)\n",
    "print(pos)\n",
    "\n",
    "batch, n_dim, n_points = pos.shape"
   ]
  },
  {
   "cell_type": "code",
   "execution_count": null,
   "metadata": {},
   "outputs": [],
   "source": [
    "root_dir = '/data/sfc/S3DIS'\n",
    "batch_size = 32\n",
    "in_channels = 9\n",
    "kernel_size = 15"
   ]
  },
  {
   "cell_type": "code",
   "execution_count": null,
   "metadata": {},
   "outputs": [],
   "source": [
    "phases = ['train', 'test']\n",
    "datasets, dataloaders, num_classes = ds.get_s3dis_dataloaders(root_dir=root_dir,\n",
    "                                                              phases=phases,\n",
    "                                                              batch_size=batch_size,\n",
    "                                                              category=5)"
   ]
  },
  {
   "cell_type": "code",
   "execution_count": null,
   "metadata": {},
   "outputs": [],
   "source": [
    "device = torch.device('cuda:0')\n",
    "model = res.resnet18(in_channels=in_channels, num_classes=num_classes,\n",
    "                         kernel_size=kernel_size).to(device)"
   ]
  },
  {
   "cell_type": "code",
   "execution_count": null,
   "metadata": {},
   "outputs": [],
   "source": [
    "dataloader_iter = iter(dataloaders['train'])\n",
    "data = next(dataloader_iter)"
   ]
  },
  {
   "cell_type": "code",
   "execution_count": null,
   "metadata": {},
   "outputs": [],
   "source": [
    "pos = data.pos\n",
    "print('pos shape is ', pos.shape)\n",
    "# dense points\n",
    "points = torch.cat(((pos+1)/2, data.x[:, :, :3]), dim=2)[0]\n",
    "points = points.numpy()\n",
    "print('points dtype', points.shape, points.dtype)"
   ]
  },
  {
   "cell_type": "code",
   "execution_count": null,
   "metadata": {},
   "outputs": [],
   "source": [
    "## for pre process data\n"
   ]
  },
  {
   "cell_type": "code",
   "execution_count": null,
   "metadata": {},
   "outputs": [],
   "source": []
  },
  {
   "cell_type": "code",
   "execution_count": null,
   "metadata": {},
   "outputs": [],
   "source": []
  },
  {
   "cell_type": "code",
   "execution_count": null,
   "metadata": {},
   "outputs": [],
   "source": []
  },
  {
   "cell_type": "markdown",
   "metadata": {},
   "source": [
    "## code below is for visualzaiton SFC curve"
   ]
  },
  {
   "cell_type": "code",
   "execution_count": null,
   "metadata": {},
   "outputs": [],
   "source": [
    "import pyvista as pv\n",
    "plotter = pv.Plotter(shape=(2, 2))\n",
    "plotter.link_views() \n",
    "for i in range(4):\n",
    "    points_voxelized = multi_pos[ :, :].numpy()\n",
    "    point_cloud = pv.PolyData(points_voxelized)\n",
    "    plotter.subplot(i//2, i%2)\n",
    "    plotter.show_grid()\n",
    "    plotter.add_mesh(point_cloud,point_size=10., render_points_as_spheres=True)\n",
    "    cells = np.full((points_voxelized.shape[0] - 1, 3), 2, dtype=np.int)\n",
    "    cells[:, 1] = np.arange(0, points_voxelized.shape[0] - 1, dtype=np.int)\n",
    "    cells[:, 2] = np.arange(1, points_voxelized.shape[0], dtype=np.int)\n",
    "    point_cloud.lines = cells\n",
    "    plotter.add_mesh(point_cloud, point_size=10., \n",
    "                     line_width=2., render_points_as_spheres=True)\n",
    "\n",
    "plotter.show()"
   ]
  },
  {
   "cell_type": "code",
   "execution_count": null,
   "metadata": {},
   "outputs": [],
   "source": [
    "import pyvista as pv\n",
    "plotter = pv.Plotter(shape=(1, 2))\n",
    "point_cloud = pv.PolyData(point[:, :3])\n",
    "plotter.subplot(0, 0)\n",
    "plotter.show_grid()\n",
    "plotter.add_mesh(point_cloud,point_size=10., render_points_as_spheres=True)\n",
    "\n",
    "point_cloud = pv.PolyData(points_voxel[:, :3])\n",
    "plotter.subplot(0, 1)\n",
    "plotter.add_mesh(point_cloud,point_size=10., render_points_as_spheres=True)\n",
    "plotter.show_grid()\n",
    "plotter.show()"
   ]
  },
  {
   "cell_type": "code",
   "execution_count": null,
   "metadata": {},
   "outputs": [],
   "source": [
    "\n",
    "voxel_size = 0.02\n",
    "points = points_voxel\n",
    "points_quantized = np.floor(points[:, :3] / voxel_size).astype(int)\n",
    "points_quantized, quantization_indices = np.unique(points_quantized, return_index=True, axis=0)\n",
    "points_voxelized = points[quantization_indices, :]\n",
    "points_voxelized.shape\n",
    "plotter = pv.BackgroundPlotter()\n",
    "plotter.enable_eye_dome_lighting()\n",
    "# dense points\n",
    "point_cloud = pv.PolyData(point[:, :3])\n",
    "p.subplot(0, 0)\n",
    "plotter.add_mesh(point_cloud,point_size=10., render_points_as_spheres=True)\n",
    "plotter.show_grid()\n",
    "plotter.show()\n",
    "\n",
    "\n",
    "point_cloud = pv.PolyData(point_voxel[:, :3])\n",
    "p.subplot(0, 0)\n",
    "plotter.add_mesh(point_cloud,point_size=10., render_points_as_spheres=True)\n",
    "plotter.show_grid()\n",
    "plotter.show()\n",
    "\n",
    "# voxelized points\n",
    "point_cloud = pv.PolyData(points_voxelized[:, :3])\n",
    "plotter.add_mesh(point_cloud, point_size=30., render_points_as_spheres=True)\n",
    "plotter.show_grid()\n",
    "plotter.show()"
   ]
  },
  {
   "cell_type": "code",
   "execution_count": null,
   "metadata": {},
   "outputs": [],
   "source": [
    "point_cloud = pv.PolyData(points[:, :3])\n",
    "point_cloud['color'] = points[:, 3:6]\n",
    "point_cloud"
   ]
  },
  {
   "cell_type": "code",
   "execution_count": null,
   "metadata": {},
   "outputs": [],
   "source": [
    "voxel_size = 0.02\n",
    "points_quantized = np.floor(points[:, :3] / voxel_size).astype(int)\n",
    "points_quantized, quantization_indices = np.unique(points_quantized, return_index=True, axis=0)\n",
    "points_voxelized = points[quantization_indices, :]\n",
    "points_voxelized.shape\n",
    "plotter = pv.BackgroundPlotter()\n",
    "plotter.enable_eye_dome_lighting()\n",
    "# dense points\n",
    "point_cloud = pv.PolyData(points[:, :3])\n",
    "point_cloud['color'] = points[:, 3:6]\n",
    "plotter.add_mesh(point_cloud, scalars='color', rgb=True, point_size=10., render_points_as_spheres=True)\n",
    "# voxelized points\n",
    "point_cloud = pv.PolyData(points_voxelized[:, :3])\n",
    "point_cloud['color'] = points_voxelized[:, 3:6]\n",
    "plotter.add_mesh(point_cloud, scalars='color', rgb=True, point_size=30., render_points_as_spheres=True)\n",
    "plotter.show_grid()\n",
    "plotter.show()"
   ]
  },
  {
   "cell_type": "code",
   "execution_count": null,
   "metadata": {},
   "outputs": [],
   "source": [
    "p = np.ceil(np.log2(points_quantized.max())).astype(int)\n",
    "print('p is ', p)\n",
    "hilbert_curve = HilbertCurve(p, 3)\n",
    "hilbert_dist = np.zeros(points_quantized.shape[0])\n",
    "for i in range(points_quantized.shape[0]):\n",
    "    hilbert_dist[i] = hilbert_curve.distance_from_coordinates(points_quantized[i, :])\n",
    "hilbert_idx = np.argsort(hilbert_dist)\n",
    "points_voxelized = points_voxelized[hilbert_idx, :]\n",
    "points_quantized = points_quantized[hilbert_idx, :]\n",
    "plotter = pv.BackgroundPlotter()\n",
    "plotter.enable_eye_dome_lighting()\n",
    "# voxelized points\n",
    "point_cloud = pv.PolyData(points_voxelized[:, :3])\n",
    "point_cloud['color'] = points_voxelized[:, 3:6]\n",
    "cells = np.full((points_voxelized.shape[0] - 1, 3), 2, dtype=np.int)\n",
    "cells[:, 1] = np.arange(0, points_voxelized.shape[0] - 1, dtype=np.int)\n",
    "cells[:, 2] = np.arange(1, points_voxelized.shape[0], dtype=np.int)\n",
    "point_cloud.lines = cells\n",
    "plotter.add_mesh(point_cloud, scalars='color', rgb=True, point_size=30., \n",
    "                 line_width=5., render_points_as_spheres=True)\n",
    "plotter.show_grid()\n",
    "plotter.show()\n"
   ]
  },
  {
   "cell_type": "code",
   "execution_count": null,
   "metadata": {},
   "outputs": [],
   "source": [
    "def inside_cube(point, mins, maxs):\n",
    "    isin = True\n",
    "    for i in range(len(point)):\n",
    "        if point[i] < mins[i] or point[i] > maxs[i]:\n",
    "            isin = False\n",
    "    return isin\n",
    "kernel_points = np.mgrid[0:3, 0:3, 0:3].reshape((3, -1)).T\n",
    "hilbert_dist = np.zeros(kernel_points.shape[0])\n",
    "for i in range(kernel_points.shape[0]):\n",
    "    hilbert_dist[i] = hilbert_curve.distance_from_coordinates(kernel_points[i, :])\n",
    "idx = np.argsort(hilbert_dist)\n",
    "kernel_points = kernel_points[idx, :]\n",
    "center_point = points_quantized[100000, :]\n",
    "print(center_point)\n",
    "kernel_local = kernel_points + center_point - 1\n",
    "kernel_min = kernel_local.min(axis=0)\n",
    "kernel_max = kernel_local.max(axis=0)\n",
    "points_in = np.array([points_quantized[i, :] for i in range(points_quantized.shape[0]) \n",
    "                      if inside_cube(points_quantized[i, :], kernel_min, kernel_max)])\n",
    "points_in\n",
    "plotter = pv.BackgroundPlotter()\n",
    "plotter.enable_eye_dome_lighting()\n",
    "point_cloud = pv.PolyData(points_quantized)\n",
    "# point_cloud['color'] = np.arange(points_quantized.shape[0])\n",
    "# cells = np.full((points_quantized.shape[0] - 1, 3), 2, dtype=np.int)\n",
    "# cells[:, 1] = np.arange(0, points_quantized.shape[0] - 1, dtype=np.int)\n",
    "# cells[:, 2] = np.arange(1, points_quantized.shape[0], dtype=np.int)\n",
    "# point_cloud.lines = cells\n",
    "plotter.add_mesh(point_cloud, color='maroon', point_size=10., line_width=5, render_points_as_spheres=True)\n",
    "# plotter.add_mesh(point_cloud, scalar='color', point_size=10., line_width=5, render_points_as_spheres=True)\n",
    "point_cloud = pv.PolyData(center_point)\n",
    "plotter.add_mesh(point_cloud, color='green', point_size=30., render_points_as_spheres=True)\n",
    "point_cloud = pv.PolyData(points_in)\n",
    "cells = np.full((points_in.shape[0] - 1, 3), 2, dtype=np.int)\n",
    "cells[:, 1] = np.arange(0, points_in.shape[0] - 1, dtype=np.int)\n",
    "cells[:, 2] = np.arange(1, points_in.shape[0], dtype=np.int)\n",
    "point_cloud.lines = cells\n",
    "plotter.add_mesh(point_cloud, color='green', point_size=20., line_width=5.0, render_points_as_spheres=True)\n",
    "box = pv.Box(bounds=(kernel_min[0], kernel_max[0], kernel_min[1], kernel_max[1], kernel_min[2], kernel_max[2]))\n",
    "plotter.add_mesh(box, color='blue', show_edges=True, opacity=0.85)\n",
    "plotter.show_grid()\n",
    "plotter.show()"
   ]
  },
  {
   "cell_type": "code",
   "execution_count": null,
   "metadata": {},
   "outputs": [],
   "source": []
  }
 ],
 "metadata": {
  "kernelspec": {
   "display_name": "deepgcn2",
   "language": "python",
   "name": "deepgcn2"
  },
  "language_info": {
   "codemirror_mode": {
    "name": "ipython",
    "version": 3
   },
   "file_extension": ".py",
   "mimetype": "text/x-python",
   "name": "python",
   "nbconvert_exporter": "python",
   "pygments_lexer": "ipython3",
   "version": "3.7.4"
  },
  "pycharm": {
   "stem_cell": {
    "cell_type": "raw",
    "source": [],
    "metadata": {
     "collapsed": false
    }
   }
  }
 },
 "nbformat": 4,
 "nbformat_minor": 4
}