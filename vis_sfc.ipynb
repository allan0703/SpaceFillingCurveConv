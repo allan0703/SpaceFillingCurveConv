{
 "cells": [
  {
   "cell_type": "code",
   "execution_count": 1,
   "metadata": {},
   "outputs": [
    {
     "name": "stderr",
     "output_type": "stream",
     "text": [
      "/home/qiang/anaconda3/envs/sfc/lib/python3.7/site-packages/tensorboard/compat/tensorflow_stub/dtypes.py:541: FutureWarning: Passing (type, 1) or '1type' as a synonym of type is deprecated; in a future version of numpy, it will be understood as (type, (1,)) / '(1,)type'.\n",
      "  _np_qint8 = np.dtype([(\"qint8\", np.int8, 1)])\n",
      "/home/qiang/anaconda3/envs/sfc/lib/python3.7/site-packages/tensorboard/compat/tensorflow_stub/dtypes.py:542: FutureWarning: Passing (type, 1) or '1type' as a synonym of type is deprecated; in a future version of numpy, it will be understood as (type, (1,)) / '(1,)type'.\n",
      "  _np_quint8 = np.dtype([(\"quint8\", np.uint8, 1)])\n",
      "/home/qiang/anaconda3/envs/sfc/lib/python3.7/site-packages/tensorboard/compat/tensorflow_stub/dtypes.py:543: FutureWarning: Passing (type, 1) or '1type' as a synonym of type is deprecated; in a future version of numpy, it will be understood as (type, (1,)) / '(1,)type'.\n",
      "  _np_qint16 = np.dtype([(\"qint16\", np.int16, 1)])\n",
      "/home/qiang/anaconda3/envs/sfc/lib/python3.7/site-packages/tensorboard/compat/tensorflow_stub/dtypes.py:544: FutureWarning: Passing (type, 1) or '1type' as a synonym of type is deprecated; in a future version of numpy, it will be understood as (type, (1,)) / '(1,)type'.\n",
      "  _np_quint16 = np.dtype([(\"quint16\", np.uint16, 1)])\n",
      "/home/qiang/anaconda3/envs/sfc/lib/python3.7/site-packages/tensorboard/compat/tensorflow_stub/dtypes.py:545: FutureWarning: Passing (type, 1) or '1type' as a synonym of type is deprecated; in a future version of numpy, it will be understood as (type, (1,)) / '(1,)type'.\n",
      "  _np_qint32 = np.dtype([(\"qint32\", np.int32, 1)])\n",
      "/home/qiang/anaconda3/envs/sfc/lib/python3.7/site-packages/tensorboard/compat/tensorflow_stub/dtypes.py:550: FutureWarning: Passing (type, 1) or '1type' as a synonym of type is deprecated; in a future version of numpy, it will be understood as (type, (1,)) / '(1,)type'.\n",
      "  np_resource = np.dtype([(\"resource\", np.ubyte, 1)])\n"
     ]
    }
   ],
   "source": [
    "import os\n",
    "import torch\n",
    "import torch.nn as nn\n",
    "from tqdm import tqdm\n",
    "import config as cfg\n",
    "import load_s3dis_preorder as ds\n",
    "import resnet_seg as res\n",
    "import utils as utl"
   ]
  },
  {
   "cell_type": "code",
   "execution_count": 2,
   "metadata": {},
   "outputs": [],
   "source": [
    "import pyvista as pv\n",
    "import numpy as np\n",
    "from hilbertcurve.hilbertcurve import HilbertCurve"
   ]
  },
  {
   "cell_type": "code",
   "execution_count": 49,
   "metadata": {},
   "outputs": [],
   "source": [
    "def batched_index_select(inputs, index):\n",
    "    \"\"\"\n",
    "\n",
    "    :param inputs: torch.Size([batch_size, num_dims, num_vertices, 1])\n",
    "    :param index: torch.Size([batch_size, num_vertices, k])\n",
    "    :return: torch.Size([batch_size, num_dims, num_vertices, k])\n",
    "    \"\"\"\n",
    "    batch_size, num_dims, num_vertices, _ = inputs.shape\n",
    "    k = index.shape[2]\n",
    "    idx = torch.arange(0, batch_size) * num_vertices\n",
    "    idx = idx.view(batch_size, -1)\n",
    "\n",
    "    inputs = inputs.transpose(2, 1).contiguous().view(-1, num_dims)\n",
    "    index = index.contiguous().view(batch_size, -1) + idx.type(index.dtype).to(inputs.device)\n",
    "    index = index.view(-1)\n",
    "\n",
    "    return torch.index_select(inputs, 0, index).contiguous().view(batch_size, -1, num_dims).transpose(2, 1).contiguous().view(batch_size, num_dims, -1, k)"
   ]
  },
  {
   "cell_type": "code",
   "execution_count": 157,
   "metadata": {},
   "outputs": [
    {
     "name": "stdout",
     "output_type": "stream",
     "text": [
      "tensor([[[ 1.9871, -0.3154, -1.1726,  ..., -1.6195, -0.8518,  1.0082],\n",
      "         [-1.0009,  0.0994, -1.8702,  ..., -0.4132,  1.2127, -0.5906],\n",
      "         [-0.5649, -0.9054, -0.3611,  ..., -1.7990, -0.2402, -2.2378],\n",
      "         ...,\n",
      "         [ 1.2326,  0.8871,  0.2282,  ...,  1.1615,  0.7533,  1.3328],\n",
      "         [-1.0621, -0.8828, -0.8165,  ...,  0.6150,  0.2614, -0.5948],\n",
      "         [ 0.9422, -0.6477,  0.1608,  ..., -0.0698,  0.0485,  0.4686]],\n",
      "\n",
      "        [[ 0.4363,  1.3544,  0.5931,  ...,  0.8893,  0.3952,  0.3595],\n",
      "         [-1.0674, -0.3457,  1.0209,  ...,  1.2282,  1.1285, -0.9224],\n",
      "         [-0.7605,  1.5244, -0.0429,  ...,  1.6734,  0.6424, -0.4307],\n",
      "         ...,\n",
      "         [ 1.6779, -1.3695, -0.0711,  ...,  1.1475,  0.2194, -0.0367],\n",
      "         [ 0.6787, -0.7417,  0.3600,  ..., -0.1595, -0.6209,  1.1902],\n",
      "         [ 0.3752, -0.1914, -0.2131,  ...,  0.0760,  1.4133, -2.1128]],\n",
      "\n",
      "        [[-0.5324, -0.4942,  0.6187,  ..., -0.7539,  1.0893,  1.3447],\n",
      "         [ 1.6806,  0.1354, -1.6177,  ...,  0.0412, -0.2549,  0.5176],\n",
      "         [ 0.6650, -1.5722, -1.3569,  ..., -1.3241, -0.9914, -1.6114],\n",
      "         ...,\n",
      "         [ 0.4609,  0.2394,  0.0937,  ..., -0.8676, -0.7346, -1.2117],\n",
      "         [ 1.7422, -0.1218,  0.4654,  ...,  0.2507, -0.7281,  1.0163],\n",
      "         [ 0.0354,  0.3515, -0.8302,  ...,  0.1677,  1.4374, -0.6262]],\n",
      "\n",
      "        [[-0.1914,  1.7222, -0.8559,  ...,  0.3730,  0.7763,  0.7100],\n",
      "         [ 0.4892,  1.2750, -0.8664,  ..., -1.4358,  0.5933, -0.9252],\n",
      "         [ 0.5656, -0.3127,  0.1095,  ...,  2.8587,  0.2990, -0.6314],\n",
      "         ...,\n",
      "         [ 1.0304, -0.3906,  0.6354,  ...,  0.7635, -0.8130,  0.5494],\n",
      "         [-0.5830,  0.1251, -0.9412,  ..., -0.4228,  0.1430,  1.0561],\n",
      "         [-0.1218, -0.7947,  1.4933,  ..., -0.2508, -0.0719, -0.3186]]])\n"
     ]
    }
   ],
   "source": [
    "pos = torch.randn(4, 9, n_points)\n",
    "print(pos)\n",
    "\n",
    "batch, n_dim, n_points = pos.shape"
   ]
  },
  {
   "cell_type": "code",
   "execution_count": 158,
   "metadata": {},
   "outputs": [],
   "source": [
    "def cal_conv_idx(n_points=1048, k=5):\n",
    "    idx = torch.ones(n_points, k, dtype=torch.long)\n",
    "    padding = k //2\n",
    "    idx[:, 0] = torch.arange(-padding, n_points-padding, 1).type(torch.long)\n",
    "    for i in range(1, k):\n",
    "        idx[:, i] = idx[:, i-1]+1\n",
    "    idx[idx>=n_points] = 2*(n_points-1) - idx[idx>=n_points]\n",
    "    idx = torch.abs(idx)\n",
    "    return idx "
   ]
  },
  {
   "cell_type": "code",
   "execution_count": 159,
   "metadata": {},
   "outputs": [
    {
     "name": "stdout",
     "output_type": "stream",
     "text": [
      "torch.Size([4, 1048, 5]) tensor([[[   2,    1,    0,    1,    2],\n",
      "         [   1,    0,    1,    2,    3],\n",
      "         [   0,    1,    2,    3,    4],\n",
      "         ...,\n",
      "         [1043, 1044, 1045, 1046, 1047],\n",
      "         [1044, 1045, 1046, 1047, 1046],\n",
      "         [1045, 1046, 1047, 1046, 1045]],\n",
      "\n",
      "        [[   2,    1,    0,    1,    2],\n",
      "         [   1,    0,    1,    2,    3],\n",
      "         [   0,    1,    2,    3,    4],\n",
      "         ...,\n",
      "         [1043, 1044, 1045, 1046, 1047],\n",
      "         [1044, 1045, 1046, 1047, 1046],\n",
      "         [1045, 1046, 1047, 1046, 1045]],\n",
      "\n",
      "        [[   2,    1,    0,    1,    2],\n",
      "         [   1,    0,    1,    2,    3],\n",
      "         [   0,    1,    2,    3,    4],\n",
      "         ...,\n",
      "         [1043, 1044, 1045, 1046, 1047],\n",
      "         [1044, 1045, 1046, 1047, 1046],\n",
      "         [1045, 1046, 1047, 1046, 1045]],\n",
      "\n",
      "        [[   2,    1,    0,    1,    2],\n",
      "         [   1,    0,    1,    2,    3],\n",
      "         [   0,    1,    2,    3,    4],\n",
      "         ...,\n",
      "         [1043, 1044, 1045, 1046, 1047],\n",
      "         [1044, 1045, 1046, 1047, 1046],\n",
      "         [1045, 1046, 1047, 1046, 1045]]])\n"
     ]
    }
   ],
   "source": [
    "idx = conv_idx(n_points, 5).unsqueeze(0).repeat(batch, 1, 1)\n",
    "print(idx.shape, idx)"
   ]
  },
  {
   "cell_type": "code",
   "execution_count": 160,
   "metadata": {},
   "outputs": [],
   "source": [
    "def cal_dis_corr(pos, idx):\n",
    "    assert len(pos.shape) >= 3, 'length of input pos should be at least 3, [B, C, N]'\n",
    "    if len(pos.shape)<4:\n",
    "        pos = pos.unsqueeze(-1)\n",
    "    batch = pos.shape[0]\n",
    "    new_pos = batched_index_select(pos, idx)\n",
    "#     print(new_pos)\n",
    "    pos_diff = new_pos - new_pos[:, :, :, 2:3].repeat(1, 1, 1, 5)\n",
    "    pos_diff = torch.sum(pos_diff ** 2, dim=1, keepdims=True)\n",
    "    \n",
    "#     print(pos_diff.shape, '\\n', pos_diff)\n",
    "    new_pos_dis = 1 - torch.div(pos_diff, torch.sum(pos_diff, dim =-1, keepdims=True))\n",
    "    pos_dis_corr = torch.softmax(new_pos_dis, dim=-1)\n",
    "    return pos_dis_corr.view(batch, 1, -1, 1)"
   ]
  },
  {
   "cell_type": "code",
   "execution_count": 161,
   "metadata": {},
   "outputs": [],
   "source": [
    "dis_corr = cal_dis_corr(pos, idx)"
   ]
  },
  {
   "cell_type": "code",
   "execution_count": 162,
   "metadata": {},
   "outputs": [
    {
     "name": "stdout",
     "output_type": "stream",
     "text": [
      "torch.Size([4, 1, 5240, 1])\n",
      "tensor([[[[0.1751],\n",
      "          [0.2037],\n",
      "          [0.2425],\n",
      "          ...,\n",
      "          [0.2430],\n",
      "          [0.1850],\n",
      "          [0.1935]]],\n",
      "\n",
      "\n",
      "        [[[0.2007],\n",
      "          [0.1780],\n",
      "          [0.2427],\n",
      "          ...,\n",
      "          [0.2429],\n",
      "          [0.1840],\n",
      "          [0.1945]]],\n",
      "\n",
      "\n",
      "        [[[0.1798],\n",
      "          [0.1989],\n",
      "          [0.2428],\n",
      "          ...,\n",
      "          [0.2422],\n",
      "          [0.1716],\n",
      "          [0.2074]]],\n",
      "\n",
      "\n",
      "        [[[0.2115],\n",
      "          [0.1676],\n",
      "          [0.2418],\n",
      "          ...,\n",
      "          [0.2430],\n",
      "          [0.1926],\n",
      "          [0.1859]]]])\n"
     ]
    }
   ],
   "source": [
    "print(dis_corr.shape)\n",
    "print(dis_corr)"
   ]
  },
  {
   "cell_type": "code",
   "execution_count": 163,
   "metadata": {},
   "outputs": [
    {
     "data": {
      "text/plain": [
       "torch.Size([4, 9, 1048])"
      ]
     },
     "execution_count": 163,
     "metadata": {},
     "output_type": "execute_result"
    }
   ],
   "source": [
    "pos.shape"
   ]
  },
  {
   "cell_type": "code",
   "execution_count": 165,
   "metadata": {},
   "outputs": [
    {
     "ename": "RuntimeError",
     "evalue": "The size of tensor a (1048) must match the size of tensor b (5240) at non-singleton dimension 2",
     "traceback": [
      "\u001b[0;31m---------------------------------------------------------------------------\u001b[0m",
      "\u001b[0;31mRuntimeError\u001b[0m                              Traceback (most recent call last)",
      "\u001b[0;32m<ipython-input-165-e2fe3ae81171>\u001b[0m in \u001b[0;36m<module>\u001b[0;34m\u001b[0m\n\u001b[0;32m----> 1\u001b[0;31m \u001b[0mtorch\u001b[0m\u001b[0;34m.\u001b[0m\u001b[0mmul\u001b[0m\u001b[0;34m(\u001b[0m\u001b[0mpos\u001b[0m\u001b[0;34m,\u001b[0m \u001b[0mdis_corr\u001b[0m\u001b[0;34m.\u001b[0m\u001b[0msqueeze\u001b[0m\u001b[0;34m(\u001b[0m\u001b[0;34m)\u001b[0m\u001b[0;34m)\u001b[0m\u001b[0;34m\u001b[0m\u001b[0;34m\u001b[0m\u001b[0m\n\u001b[0m",
      "\u001b[0;31mRuntimeError\u001b[0m: The size of tensor a (1048) must match the size of tensor b (5240) at non-singleton dimension 2"
     ],
     "output_type": "error"
    }
   ],
   "source": [
    "torch.mul(pos, dis_corr.squeeze())"
   ]
  },
  {
   "cell_type": "code",
   "execution_count": 147,
   "metadata": {},
   "outputs": [
    {
     "data": {
      "text/plain": [
       "torch.Size([2, 3, 1048])"
      ]
     },
     "execution_count": 147,
     "metadata": {},
     "output_type": "execute_result"
    }
   ],
   "source": [
    "pos.shape"
   ]
  },
  {
   "cell_type": "code",
   "execution_count": 149,
   "metadata": {},
   "outputs": [
    {
     "name": "stdout",
     "output_type": "stream",
     "text": [
      "torch.Size([2, 3, 1048, 5])\n"
     ]
    },
    {
     "ename": "RuntimeError",
     "evalue": "The size of tensor a (5) must match the size of tensor b (5240) at non-singleton dimension 3",
     "traceback": [
      "\u001b[0;31m---------------------------------------------------------------------------\u001b[0m",
      "\u001b[0;31mRuntimeError\u001b[0m                              Traceback (most recent call last)",
      "\u001b[0;32m<ipython-input-149-601caecfc351>\u001b[0m in \u001b[0;36m<module>\u001b[0;34m\u001b[0m\n\u001b[1;32m      2\u001b[0m \u001b[0mprint\u001b[0m\u001b[0;34m(\u001b[0m\u001b[0mnew_pos\u001b[0m\u001b[0;34m.\u001b[0m\u001b[0mshape\u001b[0m\u001b[0;34m)\u001b[0m\u001b[0;34m\u001b[0m\u001b[0;34m\u001b[0m\u001b[0m\n\u001b[1;32m      3\u001b[0m \u001b[0;34m\u001b[0m\u001b[0m\n\u001b[0;32m----> 4\u001b[0;31m \u001b[0mnew_pos\u001b[0m \u001b[0;34m=\u001b[0m \u001b[0mtorch\u001b[0m\u001b[0;34m.\u001b[0m\u001b[0mmul\u001b[0m\u001b[0;34m(\u001b[0m\u001b[0mnew_pos\u001b[0m\u001b[0;34m,\u001b[0m \u001b[0mdis_corr\u001b[0m\u001b[0;34m)\u001b[0m\u001b[0;34m\u001b[0m\u001b[0;34m\u001b[0m\u001b[0m\n\u001b[0m\u001b[1;32m      5\u001b[0m \u001b[0mprint\u001b[0m\u001b[0;34m(\u001b[0m\u001b[0mnew_pos\u001b[0m\u001b[0;34m.\u001b[0m\u001b[0mshape\u001b[0m\u001b[0;34m)\u001b[0m\u001b[0;34m\u001b[0m\u001b[0;34m\u001b[0m\u001b[0m\n",
      "\u001b[0;31mRuntimeError\u001b[0m: The size of tensor a (5) must match the size of tensor b (5240) at non-singleton dimension 3"
     ],
     "output_type": "error"
    }
   ],
   "source": [
    "new_pos = batched_index_select(pos.unsqueeze(-1), idx).view(-1, 3, n_points, )\n",
    "print(new_pos.shape)\n",
    "\n",
    "new_pos = torch.mul(new_pos, dis_corr)\n",
    "print(new_pos.shape)"
   ]
  },
  {
   "cell_type": "code",
   "execution_count": 2,
   "metadata": {},
   "outputs": [],
   "source": [
    "root_dir = '/data/sfc/S3DIS'\n",
    "batch_size = 32\n",
    "in_channels = 9\n",
    "kernel_size = 15"
   ]
  },
  {
   "cell_type": "code",
   "execution_count": 3,
   "metadata": {},
   "outputs": [],
   "source": [
    "phases = ['train', 'test']\n",
    "datasets, dataloaders, num_classes = ds.get_s3dis_dataloaders(root_dir=root_dir,\n",
    "                                                              phases=phases,\n",
    "                                                              batch_size=batch_size,\n",
    "                                                              category=5)"
   ]
  },
  {
   "cell_type": "code",
   "execution_count": 4,
   "metadata": {},
   "outputs": [],
   "source": [
    "device = torch.device('cuda:0')\n",
    "model = res.resnet18(in_channels=in_channels, num_classes=num_classes,\n",
    "                         kernel_size=kernel_size).to(device)"
   ]
  },
  {
   "cell_type": "code",
   "execution_count": 15,
   "metadata": {},
   "outputs": [],
   "source": [
    "dataloader_iter = iter(dataloaders['train'])\n",
    "data = next(dataloader_iter)"
   ]
  },
  {
   "cell_type": "code",
   "execution_count": 16,
   "metadata": {},
   "outputs": [
    {
     "name": "stdout",
     "output_type": "stream",
     "text": [
      "pos shape is  torch.Size([32, 4096, 3])\n",
      "points dtype (4096, 6) float32\n"
     ]
    }
   ],
   "source": [
    "pos = data.pos\n",
    "print('pos shape is ', pos.shape)\n",
    "# dense points\n",
    "points = torch.cat(((pos+1)/2, data.x[:, :, :3]), dim=2)[0]\n",
    "points = points.numpy()\n",
    "print('points dtype', points.shape, points.dtype)"
   ]
  },
  {
   "cell_type": "code",
   "execution_count": 17,
   "metadata": {},
   "outputs": [],
   "source": []
  },
  {
   "cell_type": "code",
   "execution_count": 19,
   "metadata": {},
   "outputs": [
    {
     "data": {
      "text/html": [
       "<table><tr><th>Header</th><th>Data Arrays</th></tr><tr><td>\n",
       "<table>\n",
       "<tr><th>PolyData</th><th>Information</th></tr>\n",
       "<tr><td>N Cells</td><td>4096</td></tr>\n",
       "<tr><td>N Points</td><td>4096</td></tr>\n",
       "<tr><td>X Bounds</td><td>3.145e-01, 6.933e-01</td></tr>\n",
       "<tr><td>Y Bounds</td><td>3.942e-01, 7.658e-01</td></tr>\n",
       "<tr><td>Z Bounds</td><td>5.364e-07, 9.523e-01</td></tr>\n",
       "<tr><td>N Arrays</td><td>1</td></tr>\n",
       "</table>\n",
       "\n",
       "</td><td>\n",
       "<table>\n",
       "<tr><th>Name</th><th>Field</th><th>Type</th><th>N Comp</th><th>Min</th><th>Max</th></tr>\n",
       "<tr><td><b>color</b></td><td>Points</td><td>float32</td><td>3</td><td>1.569e-02</td><td>1.000e+00</td></tr>\n",
       "</table>\n",
       "\n",
       "</td></tr> </table>"
      ],
      "text/plain": [
       "PolyData (0x7fc949fab590)\n",
       "  N Cells:\t4096\n",
       "  N Points:\t4096\n",
       "  X Bounds:\t3.145e-01, 6.933e-01\n",
       "  Y Bounds:\t3.942e-01, 7.658e-01\n",
       "  Z Bounds:\t5.364e-07, 9.523e-01\n",
       "  N Arrays:\t1"
      ]
     },
     "execution_count": 19,
     "metadata": {},
     "output_type": "execute_result"
    }
   ],
   "source": [
    "point_cloud = pv.PolyData(points[:, :3])\n",
    "point_cloud['color'] = points[:, 3:6]\n",
    "point_cloud"
   ]
  },
  {
   "cell_type": "code",
   "execution_count": 20,
   "metadata": {},
   "outputs": [],
   "source": [
    "voxel_size = 0.02\n",
    "points_quantized = np.floor(points[:, :3] / voxel_size).astype(int)\n",
    "points_quantized, quantization_indices = np.unique(points_quantized, return_index=True, axis=0)\n",
    "points_voxelized = points[quantization_indices, :]\n",
    "points_voxelized.shape\n",
    "plotter = pv.BackgroundPlotter()\n",
    "plotter.enable_eye_dome_lighting()\n",
    "# dense points\n",
    "point_cloud = pv.PolyData(points[:, :3])\n",
    "point_cloud['color'] = points[:, 3:6]\n",
    "plotter.add_mesh(point_cloud, scalars='color', rgb=True, point_size=10., render_points_as_spheres=True)\n",
    "# voxelized points\n",
    "point_cloud = pv.PolyData(points_voxelized[:, :3])\n",
    "point_cloud['color'] = points_voxelized[:, 3:6]\n",
    "plotter.add_mesh(point_cloud, scalars='color', rgb=True, point_size=30., render_points_as_spheres=True)\n",
    "plotter.show_grid()\n",
    "plotter.show()"
   ]
  },
  {
   "cell_type": "code",
   "execution_count": 21,
   "metadata": {},
   "outputs": [
    {
     "name": "stdout",
     "output_type": "stream",
     "text": [
      "p is  6\n"
     ]
    }
   ],
   "source": [
    "p = np.ceil(np.log2(points_quantized.max())).astype(int)\n",
    "print('p is ', p)\n",
    "hilbert_curve = HilbertCurve(p, 3)\n",
    "hilbert_dist = np.zeros(points_quantized.shape[0])\n",
    "for i in range(points_quantized.shape[0]):\n",
    "    hilbert_dist[i] = hilbert_curve.distance_from_coordinates(points_quantized[i, :])\n",
    "hilbert_idx = np.argsort(hilbert_dist)\n",
    "points_voxelized = points_voxelized[hilbert_idx, :]\n",
    "points_quantized = points_quantized[hilbert_idx, :]\n",
    "plotter = pv.BackgroundPlotter()\n",
    "plotter.enable_eye_dome_lighting()\n",
    "# voxelized points\n",
    "point_cloud = pv.PolyData(points_voxelized[:, :3])\n",
    "point_cloud['color'] = points_voxelized[:, 3:6]\n",
    "cells = np.full((points_voxelized.shape[0] - 1, 3), 2, dtype=np.int)\n",
    "cells[:, 1] = np.arange(0, points_voxelized.shape[0] - 1, dtype=np.int)\n",
    "cells[:, 2] = np.arange(1, points_voxelized.shape[0], dtype=np.int)\n",
    "point_cloud.lines = cells\n",
    "plotter.add_mesh(point_cloud, scalars='color', rgb=True, point_size=30., \n",
    "                 line_width=5., render_points_as_spheres=True)\n",
    "plotter.show_grid()\n",
    "plotter.show()\n"
   ]
  },
  {
   "cell_type": "code",
   "execution_count": 14,
   "metadata": {},
   "outputs": [
    {
     "ename": "IndexError",
     "evalue": "index 100000 is out of bounds for axis 0 with size 779",
     "traceback": [
      "\u001b[0;31m--------------------------------------\u001b[0m",
      "\u001b[0;31mIndexError\u001b[0mTraceback (most recent call last)",
      "\u001b[0;32m<ipython-input-14-67248530bacb>\u001b[0m in \u001b[0;36m<module>\u001b[0;34m\u001b[0m\n\u001b[1;32m     11\u001b[0m \u001b[0midx\u001b[0m \u001b[0;34m=\u001b[0m \u001b[0mnp\u001b[0m\u001b[0;34m.\u001b[0m\u001b[0margsort\u001b[0m\u001b[0;34m(\u001b[0m\u001b[0mhilbert_dist\u001b[0m\u001b[0;34m)\u001b[0m\u001b[0;34m\u001b[0m\u001b[0;34m\u001b[0m\u001b[0m\n\u001b[1;32m     12\u001b[0m \u001b[0mkernel_points\u001b[0m \u001b[0;34m=\u001b[0m \u001b[0mkernel_points\u001b[0m\u001b[0;34m[\u001b[0m\u001b[0midx\u001b[0m\u001b[0;34m,\u001b[0m \u001b[0;34m:\u001b[0m\u001b[0;34m]\u001b[0m\u001b[0;34m\u001b[0m\u001b[0;34m\u001b[0m\u001b[0m\n\u001b[0;32m---> 13\u001b[0;31m \u001b[0mcenter_point\u001b[0m \u001b[0;34m=\u001b[0m \u001b[0mpoints_quantized\u001b[0m\u001b[0;34m[\u001b[0m\u001b[0;36m100000\u001b[0m\u001b[0;34m,\u001b[0m \u001b[0;34m:\u001b[0m\u001b[0;34m]\u001b[0m\u001b[0;34m\u001b[0m\u001b[0;34m\u001b[0m\u001b[0m\n\u001b[0m\u001b[1;32m     14\u001b[0m \u001b[0mprint\u001b[0m\u001b[0;34m(\u001b[0m\u001b[0mcenter_point\u001b[0m\u001b[0;34m)\u001b[0m\u001b[0;34m\u001b[0m\u001b[0;34m\u001b[0m\u001b[0m\n\u001b[1;32m     15\u001b[0m \u001b[0mkernel_local\u001b[0m \u001b[0;34m=\u001b[0m \u001b[0mkernel_points\u001b[0m \u001b[0;34m+\u001b[0m \u001b[0mcenter_point\u001b[0m \u001b[0;34m-\u001b[0m \u001b[0;36m1\u001b[0m\u001b[0;34m\u001b[0m\u001b[0;34m\u001b[0m\u001b[0m\n",
      "\u001b[0;31mIndexError\u001b[0m: index 100000 is out of bounds for axis 0 with size 779"
     ],
     "output_type": "error"
    }
   ],
   "source": [
    "def inside_cube(point, mins, maxs):\n",
    "    isin = True\n",
    "    for i in range(len(point)):\n",
    "        if point[i] < mins[i] or point[i] > maxs[i]:\n",
    "            isin = False\n",
    "    return isin\n",
    "kernel_points = np.mgrid[0:3, 0:3, 0:3].reshape((3, -1)).T\n",
    "hilbert_dist = np.zeros(kernel_points.shape[0])\n",
    "for i in range(kernel_points.shape[0]):\n",
    "    hilbert_dist[i] = hilbert_curve.distance_from_coordinates(kernel_points[i, :])\n",
    "idx = np.argsort(hilbert_dist)\n",
    "kernel_points = kernel_points[idx, :]\n",
    "center_point = points_quantized[100000, :]\n",
    "print(center_point)\n",
    "kernel_local = kernel_points + center_point - 1\n",
    "kernel_min = kernel_local.min(axis=0)\n",
    "kernel_max = kernel_local.max(axis=0)\n",
    "points_in = np.array([points_quantized[i, :] for i in range(points_quantized.shape[0]) \n",
    "                      if inside_cube(points_quantized[i, :], kernel_min, kernel_max)])\n",
    "points_in\n",
    "plotter = pv.BackgroundPlotter()\n",
    "plotter.enable_eye_dome_lighting()\n",
    "point_cloud = pv.PolyData(points_quantized)\n",
    "# point_cloud['color'] = np.arange(points_quantized.shape[0])\n",
    "# cells = np.full((points_quantized.shape[0] - 1, 3), 2, dtype=np.int)\n",
    "# cells[:, 1] = np.arange(0, points_quantized.shape[0] - 1, dtype=np.int)\n",
    "# cells[:, 2] = np.arange(1, points_quantized.shape[0], dtype=np.int)\n",
    "# point_cloud.lines = cells\n",
    "plotter.add_mesh(point_cloud, color='maroon', point_size=10., line_width=5, render_points_as_spheres=True)\n",
    "# plotter.add_mesh(point_cloud, scalar='color', point_size=10., line_width=5, render_points_as_spheres=True)\n",
    "point_cloud = pv.PolyData(center_point)\n",
    "plotter.add_mesh(point_cloud, color='green', point_size=30., render_points_as_spheres=True)\n",
    "point_cloud = pv.PolyData(points_in)\n",
    "cells = np.full((points_in.shape[0] - 1, 3), 2, dtype=np.int)\n",
    "cells[:, 1] = np.arange(0, points_in.shape[0] - 1, dtype=np.int)\n",
    "cells[:, 2] = np.arange(1, points_in.shape[0], dtype=np.int)\n",
    "point_cloud.lines = cells\n",
    "plotter.add_mesh(point_cloud, color='green', point_size=20., line_width=5.0, render_points_as_spheres=True)\n",
    "box = pv.Box(bounds=(kernel_min[0], kernel_max[0], kernel_min[1], kernel_max[1], kernel_min[2], kernel_max[2]))\n",
    "plotter.add_mesh(box, color='blue', show_edges=True, opacity=0.85)\n",
    "plotter.show_grid()\n",
    "plotter.show()"
   ]
  },
  {
   "cell_type": "code",
   "execution_count": null,
   "metadata": {},
   "outputs": [],
   "source": []
  }
 ],
 "metadata": {
  "kernelspec": {
   "display_name": "PyG",
   "language": "python",
   "name": "sfc"
  },
  "language_info": {
   "codemirror_mode": {
    "name": "ipython",
    "version": 3
   },
   "file_extension": ".py",
   "mimetype": "text/x-python",
   "name": "python",
   "nbconvert_exporter": "python",
   "pygments_lexer": "ipython3",
   "version": "3.7.5"
  }
 },
 "nbformat": 4,
 "nbformat_minor": 2
}
